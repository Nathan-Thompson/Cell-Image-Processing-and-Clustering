{
 "cells": [
  {
   "cell_type": "code",
   "execution_count": 108,
   "metadata": {
    "collapsed": true
   },
   "outputs": [],
   "source": [
    "% matplotlib inline\n",
    "import seaborn as sns\n",
    "import numpy as np\n",
    "import pylab as pl\n",
    "import mahotas as mh\n",
    "import skimage as ski\n",
    "import skimage.filters as skif\n",
    "from scipy import ndimage as ndi\n",
    "import matplotlib.pyplot as py\n",
    "import pandas as pd\n",
    "from skimage import segmentation\n",
    "from skimage import morphology\n",
    "from pprint import pprint\n",
    "from sklearn import cluster\n",
    "from sklearn import decomposition"
   ]
  },
  {
   "cell_type": "code",
   "execution_count": 119,
   "metadata": {
    "collapsed": false
   },
   "outputs": [],
   "source": [
    "\n",
    "def labelcells(image,kernelsize):\n",
    "    '''\n",
    "    Takes an image and a size for the kernel used to blur the distance matrix. Returns a trimed/blob-labeled image.\n",
    "    '''\n",
    "    img2=np.mean(image,2).astype(u'uint8')\n",
    "    smooth = img2#mh.gaussian_filter(img2,1.5).astype('uint8')\n",
    "    thresh = mh.thresholding.otsu(smooth)\n",
    "    mask = smooth>thresh\n",
    "    inverted = np.invert(smooth>thresh)\n",
    "    filled = ndi.binary_fill_holes(inverted)\n",
    "    dist = mh.distance(filled)\n",
    "    #dist = ndi.morphology.distance_transform_edt(filled)\n",
    "    dist = dist.max() - dist\n",
    "    dist -= dist.min()\n",
    "    dist  = dist/float(dist.ptp()) * 255\n",
    "    dist = dist.astype(np.uint8)\n",
    "    smooth2 = mh.gaussian_filter(dist,kernelsize).astype('uint8')\n",
    "    rmax = mh.regmin(smooth2)\n",
    "    seeds, ncells = mh.label(rmax)\n",
    "    nuclei = mh.cwatershed(smooth2,seeds)\n",
    "    whole = (nuclei*filled)\n",
    "    return trimedges(whole)\n",
    "    \n",
    "\n",
    "def trimedges(whole):\n",
    "    '''\n",
    "    Takes a masked/labeled image and returns it with any object touching the edge to \n",
    "    '''\n",
    "    borders = np.zeros(whole.shape,np.bool)\n",
    "    borders[0:1,:] = 1\n",
    "    borders[-1:,:] = 1\n",
    "    borders[:,0:1] = 1\n",
    "    borders[:,-1:] = 1\n",
    "    at_border = np.unique(whole[borders])\n",
    "    for obj in at_border:\n",
    "        whole[whole==obj] = 0\n",
    "    return whole\n",
    "\n",
    "def separatecells(labeled,image):\n",
    "    cellimages = []\n",
    "    ylen,xlen = labeled.shape\n",
    "    x = []\n",
    "    y = []\n",
    "    area = []\n",
    "    for cell in np.unique(labeled)[1:]:\n",
    "        cellmask = labeled.copy()\n",
    "        cellmask[cellmask!=cell]=0\n",
    "        cellmask[cellmask==cell]=1\n",
    "        xmin = np.nonzero(cellmask.sum(axis = 0))[0].min()-5\n",
    "        xmax = np.nonzero(cellmask.sum(axis = 0))[0].max()+5\n",
    "        ymin = np.nonzero(cellmask.sum(axis = 1))[0].min()-5\n",
    "        ymax = np.nonzero(cellmask.sum(axis = 1))[0].max()+5\n",
    "        if xmin<0:\n",
    "            xmin = 0\n",
    "        if xmax>xlen:\n",
    "            xmax = xlen\n",
    "        if ymin<0:\n",
    "            ymin = 0\n",
    "        if ymax>ylen:\n",
    "            ymax = ylen\n",
    "        #takes care of cells close to edge that aren't touching it. Otherwise the pulled image won't work\n",
    "        crop = image[ymin:ymax,xmin:xmax]\n",
    "        cropmask = cellmask[ymin:ymax,xmin:xmax]\n",
    "        cropmask = ndi.binary_dilation(cropmask,iterations=2)\n",
    "        crop2 = np.empty(crop.shape)\n",
    "        crop2[:,:,0] = cropmask*crop[:,:,0]\n",
    "        crop2[:,:,1] = cropmask*crop[:,:,1]\n",
    "        crop2[:,:,2] = cropmask*crop[:,:,2]\n",
    "        crop2 = crop2.astype('uint8')\n",
    "        cellimages.append((crop2))\n",
    "        yl,xl, d =crop.shape\n",
    "        x.append(xmax-xmin) #xl\n",
    "        y.append(ymax-ymin) #yl\n",
    "        area.append(yl*xl)\n",
    "    return cellimages\n",
    "\n",
    "def image2cells(image):\n",
    "    labeled = labelcells(image,1.9)\n",
    "    return separatecells(labeled,image)\n",
    "\n",
    "def channel2vec(img):\n",
    "    vec =[]\n",
    "    xavgs = img.mean(0)\n",
    "    yavgs = img.mean(1)\n",
    "    y,x = img.shape\n",
    "    yslice = np.linspace(0,y-1,4).astype('int')\n",
    "    xslice = np.linspace(0,x-1,4).astype('int')\n",
    "    slic = 0\n",
    "    for index in yslice[1:]:\n",
    "        vec.append(yavgs[slic:index].mean())\n",
    "        slic = index\n",
    "    slic = 0\n",
    "    for index in xslice[1:]:\n",
    "        vec.append(yavgs[slic:index].mean())\n",
    "        slic = index\n",
    "    return vec\n",
    "    \n",
    "def cell2vec(image):\n",
    "    vec = list(image.shape[:2])\n",
    "    for chan in range(0,3):\n",
    "        channel = img[:,:,chan]\n",
    "        vec = vec + channel2vec(channel)\n",
    "    return vec\n"
   ]
  },
  {
   "cell_type": "code",
   "execution_count": 115,
   "metadata": {
    "collapsed": false
   },
   "outputs": [],
   "source": [
    "img = mh.imread('blood2.jpg')"
   ]
  },
  {
   "cell_type": "code",
   "execution_count": 116,
   "metadata": {
    "collapsed": false
   },
   "outputs": [],
   "source": [
    "cells =imagetocells(img)"
   ]
  },
  {
   "cell_type": "code",
   "execution_count": 217,
   "metadata": {
    "collapsed": false
   },
   "outputs": [],
   "source": [
    "def image2vec(image):\n",
    "    cells = image2cells(image)\n",
    "    cellvecs = []#[range(1,len(cells)+1)]\n",
    "    #i = 1\n",
    "    #cellids = []\n",
    "    for cell in cells:\n",
    "        cellvec = cell2vec(cell)\n",
    "        #cellvec.insert(0,i)\n",
    "        cellvecs.append(cellvec)\n",
    "        #i += 1\n",
    "        #cellids.append((i,cell))\n",
    "    df = pd.DataFrame(cellvecs)\n",
    "    return df, cells"
   ]
  },
  {
   "cell_type": "code",
   "execution_count": 218,
   "metadata": {
    "collapsed": false
   },
   "outputs": [],
   "source": [
    "test, cells = image2vec(img)"
   ]
  },
  {
   "cell_type": "code",
   "execution_count": null,
   "metadata": {
    "collapsed": true
   },
   "outputs": [],
   "source": []
  },
  {
   "cell_type": "code",
   "execution_count": null,
   "metadata": {
    "collapsed": true
   },
   "outputs": [],
   "source": []
  }
 ],
 "metadata": {
  "kernelspec": {
   "display_name": "Python 2",
   "language": "python",
   "name": "python2"
  },
  "language_info": {
   "codemirror_mode": {
    "name": "ipython",
    "version": 2
   },
   "file_extension": ".py",
   "mimetype": "text/x-python",
   "name": "python",
   "nbconvert_exporter": "python",
   "pygments_lexer": "ipython2",
   "version": "2.7.11"
  }
 },
 "nbformat": 4,
 "nbformat_minor": 0
}
